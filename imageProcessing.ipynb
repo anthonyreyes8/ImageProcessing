{
 "cells": [
  {
   "cell_type": "code",
   "execution_count": 1,
   "metadata": {},
   "outputs": [],
   "source": [
    "from PIL import Image\n",
    "import pandas as pd\n",
    "import numpy as np \n",
    "import imageio\n",
    "import os\n",
    "from random import shuffle\n",
    "import matplotlib.pyplot as plt"
   ]
  },
  {
   "cell_type": "markdown",
   "metadata": {},
   "source": [
    "# Preprocessing"
   ]
  },
  {
   "cell_type": "code",
   "execution_count": 2,
   "metadata": {},
   "outputs": [],
   "source": [
    "#checking image sizes\n",
    "def get_size_statistics(DIR):\n",
    "  heights = []\n",
    "  widths = []\n",
    "  for img in os.listdir(DIR): \n",
    "    path = os.path.join(DIR, img)\n",
    "    data = np.array(Image.open(path)) #PIL Image library\n",
    "    heights.append(data.shape[0])\n",
    "    widths.append(data.shape[1])\n",
    "  avg_height = sum(heights) / len(heights)\n",
    "  avg_width = sum(widths) / len(widths)  \n",
    "  print(\"Average Height: \" + str(avg_height))\n",
    "  print(\"Max Height: \" + str(max(heights)))\n",
    "  print(\"Min Height: \" + str(min(heights)))\n",
    "  print('\\n')\n",
    "  print(\"Average Width: \" + str(avg_width))\n",
    "  print(\"Max Width: \" + str(max(widths)))\n",
    "  print(\"Min Width: \" + str(min(widths)))"
   ]
  },
  {
   "cell_type": "code",
   "execution_count": 3,
   "metadata": {},
   "outputs": [
    {
     "name": "stdout",
     "output_type": "stream",
     "text": [
      "Average Height: 79.99736729596543\n",
      "Max Height: 80\n",
      "Min Height: 60\n",
      "\n",
      "\n",
      "Average Width: 59.99815485700142\n",
      "Max Width: 60\n",
      "Min Width: 53\n"
     ]
    }
   ],
   "source": [
    "get_size_statistics(\"/home/anthony/Documents/CodingProjects/cmpe351/Assignment2/archive/images\")"
   ]
  },
  {
   "cell_type": "markdown",
   "metadata": {},
   "source": [
    "The first step is to format the image data so that we have easy inputs for our keras model. We will create a dictionary of the training data to map to the id of each jpg. The same process will also be repeated with the testing data."
   ]
  },
  {
   "cell_type": "code",
   "execution_count": 4,
   "metadata": {},
   "outputs": [
    {
     "data": {
      "text/plain": [
       "'label'"
      ]
     },
     "execution_count": 4,
     "metadata": {},
     "output_type": "execute_result"
    }
   ],
   "source": [
    "#dictionary mapping training id to the item categories\n",
    "train_id_dict = {} \n",
    "training_f= open(\"train.csv\", \"r\")\n",
    "training_contents = training_f.read()\n",
    "training_contents = training_contents.split('\\n')\n",
    "for i in range(len(training_contents)-1):\n",
    "    training_contents[i] = training_contents[i].split('\\t')\n",
    "    train_id_dict[training_contents[i][0]] = training_contents[i][1]\n",
    "\n",
    "train_id_dict.pop(\"imageid\")"
   ]
  },
  {
   "cell_type": "code",
   "execution_count": 5,
   "metadata": {},
   "outputs": [
    {
     "data": {
      "text/plain": [
       "'label'"
      ]
     },
     "execution_count": 5,
     "metadata": {},
     "output_type": "execute_result"
    }
   ],
   "source": [
    "#dictionary mapping test id to the item categories\n",
    "test_id_dict = {} \n",
    "test_f= open(\"test.csv\", \"r\")\n",
    "test_contents = test_f.read()\n",
    "test_contents = test_contents.split('\\n')\n",
    "for i in range(len(test_contents)-1):\n",
    "    test_contents[i] = test_contents[i].split('\\t')\n",
    "    test_id_dict[test_contents[i][0]] = test_contents[i][1]\n",
    "\n",
    "test_id_dict.pop(\"imageid\")"
   ]
  },
  {
   "cell_type": "code",
   "execution_count": 6,
   "metadata": {},
   "outputs": [
    {
     "name": "stderr",
     "output_type": "stream",
     "text": [
      "2022-03-09 23:22:47.674427: W tensorflow/stream_executor/platform/default/dso_loader.cc:64] Could not load dynamic library 'libcudart.so.11.0'; dlerror: libcudart.so.11.0: cannot open shared object file: No such file or directory\n",
      "2022-03-09 23:22:47.674448: I tensorflow/stream_executor/cuda/cudart_stub.cc:29] Ignore above cudart dlerror if you do not have a GPU set up on your machine.\n"
     ]
    }
   ],
   "source": [
    "from keras.preprocessing import image"
   ]
  },
  {
   "cell_type": "code",
   "execution_count": 7,
   "metadata": {},
   "outputs": [],
   "source": [
    "#create dictionary for the categories so that images can be renamed\n",
    "train_categories = train_id_dict.values()\n",
    "train_set_categories = set(train_categories)\n",
    "train_counting_dict = {}\n",
    "for i in train_set_categories:\n",
    "  train_counting_dict[i] = 0\n",
    "\n",
    "test_categories = test_id_dict.values()\n",
    "test_set_categories = set(test_categories)\n",
    "test_counting_dict = {}\n",
    "for i in test_set_categories:\n",
    "  test_counting_dict[i] = 0"
   ]
  },
  {
   "cell_type": "code",
   "execution_count": 8,
   "metadata": {},
   "outputs": [],
   "source": [
    "#for splitting the image dataset into training and validation\n",
    "train_images = []\n",
    "test_images = []\n",
    "\n",
    "for img in os.listdir('/home/anthony/Documents/CodingProjects/cmpe351/Assignment2/archive/images'):\n",
    "    #check if the image id matches the image id in training id dict\n",
    "    imgName = img.split('.')[0]\n",
    "    \n",
    "    #if the image id is in the training dictionary create a folder of labeled training images \n",
    "    if imgName in train_id_dict.keys():\n",
    "        train_label = train_id_dict[str(imgName)]\n",
    "        train_counting_dict[train_label] += 1\n",
    "        path = os.path.join('/home/anthony/Documents/CodingProjects/cmpe351/Assignment2/archive/images', img)\n",
    "        saveName = './labeled_train/' + train_label + '-' + str(train_counting_dict[train_label]) + '.jpg'\n",
    "        train_image_data = np.array(Image.open(path))\n",
    "        imageio.imwrite(saveName, train_image_data)\n",
    "    \n",
    "    #if the image id is in the testing dictionary create a folder of labeled training images \n",
    "    else:\n",
    "        test_label = test_id_dict[str(imgName)]\n",
    "        test_counting_dict[test_label] += 1 \n",
    "        path = os.path.join('/home/anthony/Documents/CodingProjects/cmpe351/Assignment2/archive/images', img)\n",
    "        saveName = './labeled_test/' + test_label + '-' + str(test_counting_dict[test_label]) + '.jpg'\n",
    "        test_image_data = np.array(Image.open(path))\n",
    "        imageio.imwrite(saveName, test_image_data)"
   ]
  },
  {
   "cell_type": "code",
   "execution_count": 9,
   "metadata": {},
   "outputs": [],
   "source": [
    "#one-hot-encoding target variables \n",
    "def label_img(name):\n",
    "    label = name.split('-')[0]\n",
    "    if label == 'Watches':\n",
    "        return np.array([1,0,0,0,0,0,0,0,0,0,0,0,0])\n",
    "    elif label == 'Innerwear':\n",
    "        return np.array([0,1,0,0,0,0,0,0,0,0,0,0,0])\n",
    "    elif label == 'Bags':\n",
    "        return np.array([0,0,1,0,0,0,0,0,0,0,0,0,0])\n",
    "    elif label == 'Bottomwear':\n",
    "        return np.array([0,0,0,1,0,0,0,0,0,0,0,0,0])  \n",
    "    elif label == 'Shoes':\n",
    "        return np.array([0,0,0,0,1,0,0,0,0,0,0,0,0]) \n",
    "    elif label == 'Fragrance':\n",
    "        return np.array([0,0,0,0,0,1,0,0,0,0,0,0,0])\n",
    "    elif label == 'Jewellery':\n",
    "        return np.array([0,0,0,0,0,0,1,0,0,0,0,0,0])\n",
    "    elif label == 'Sandal':\n",
    "        return np.array([0,0,0,0,0,0,0,1,0,0,0,0,0])\n",
    "    elif label == 'Topwear':\n",
    "        return np.array([0,0,0,0,0,0,0,0,1,0,0,0,0])\n",
    "    elif label == 'Wallets':\n",
    "        return np.array([0,0,0,0,0,0,0,0,0,1,0,0,0])\n",
    "    elif label == 'Makeup':\n",
    "        return np.array([0,0,0,0,0,0,0,0,0,0,1,0,0])\n",
    "    elif label == 'Others':\n",
    "        return np.array([0,0,0,0,0,0,0,0,0,0,0,1,0])\n",
    "    elif label == 'Eyewear':\n",
    "        return np.array([0,0,0,0,0,0,0,0,0,0,0,0,1])    "
   ]
  },
  {
   "cell_type": "markdown",
   "metadata": {},
   "source": [
    "Images should be formatted for best results. Also a basic data augmentation technique is used in hopes of better  performance."
   ]
  },
  {
   "cell_type": "code",
   "execution_count": 10,
   "metadata": {},
   "outputs": [],
   "source": [
    "#Load and resize images\n",
    "IMG_SIZE = 80\n",
    "\n",
    "#format images to all be the same size\n",
    "def format_images(directory):\n",
    "  data = []\n",
    "  for img in os.listdir(directory):\n",
    "    label = label_img(img)\n",
    "    path = os.path.join(directory, img)\n",
    "    img = Image.open(path)\n",
    "    img = img.convert('L')\n",
    "    img = img.resize((IMG_SIZE, IMG_SIZE), Image.ANTIALIAS)\n",
    "    data.append([np.array(img), label])    \n",
    "    \n",
    "    # Basic Data Augmentation - Horizontal Flipping\n",
    "    flip_img = Image.open(path)\n",
    "    flip_img = flip_img.convert('L')\n",
    "    flip_img = flip_img.resize((IMG_SIZE, IMG_SIZE), Image.ANTIALIAS)\n",
    "    flip_img = np.array(flip_img)\n",
    "    flip_img = np.fliplr(flip_img)\n",
    "    data.append([flip_img, label])  \n",
    "    shuffle(data)\n",
    "  return data"
   ]
  },
  {
   "cell_type": "code",
   "execution_count": 11,
   "metadata": {},
   "outputs": [],
   "source": [
    "#checking that everyhing worked\n",
    "train_data = format_images(\"/home/anthony/Documents/CodingProjects/cmpe351/Assignment2/labeled_train\")\n",
    "test_data = format_images(\"/home/anthony/Documents/CodingProjects/cmpe351/Assignment2/labeled_test\")"
   ]
  },
  {
   "cell_type": "markdown",
   "metadata": {},
   "source": [
    "# Part 1 - Simple CNN For Image Classification"
   ]
  },
  {
   "cell_type": "markdown",
   "metadata": {},
   "source": [
    "In part 1 we will use keras to design a CNN model."
   ]
  },
  {
   "cell_type": "code",
   "execution_count": 12,
   "metadata": {},
   "outputs": [],
   "source": [
    "#keras imports \n",
    "from keras.models import Sequential\n",
    "from keras.layers import Dense, Conv2D, Flatten, MaxPooling2D, BatchNormalization, Dropout\n",
    "from tensorflow.keras.utils import to_categorical"
   ]
  },
  {
   "cell_type": "code",
   "execution_count": 13,
   "metadata": {},
   "outputs": [],
   "source": [
    "#setting up training data\n",
    "train_images = np.array([i[0] for i in train_data]).reshape(-1, IMG_SIZE, IMG_SIZE, 1)\n",
    "train_labels = np.array([i[1] for i in train_data])"
   ]
  },
  {
   "cell_type": "code",
   "execution_count": 14,
   "metadata": {},
   "outputs": [
    {
     "name": "stderr",
     "output_type": "stream",
     "text": [
      "2022-03-10 13:22:41.187470: W tensorflow/stream_executor/platform/default/dso_loader.cc:64] Could not load dynamic library 'libcuda.so.1'; dlerror: libcuda.so.1: cannot open shared object file: No such file or directory\n",
      "2022-03-10 13:22:41.188253: W tensorflow/stream_executor/cuda/cuda_driver.cc:269] failed call to cuInit: UNKNOWN ERROR (303)\n",
      "2022-03-10 13:22:41.190205: I tensorflow/stream_executor/cuda/cuda_diagnostics.cc:156] kernel driver does not appear to be running on this host (anthony): /proc/driver/nvidia/version does not exist\n",
      "2022-03-10 13:22:41.202285: I tensorflow/core/platform/cpu_feature_guard.cc:151] This TensorFlow binary is optimized with oneAPI Deep Neural Network Library (oneDNN) to use the following CPU instructions in performance-critical operations:  AVX2 FMA\n",
      "To enable them in other operations, rebuild TensorFlow with the appropriate compiler flags.\n"
     ]
    }
   ],
   "source": [
    "#CNN Creation\n",
    "model = Sequential()\n",
    "\n",
    "#adding layers to the model\n",
    "model.add(Conv2D(32, kernel_size = (3, 3), activation='relu', input_shape=(IMG_SIZE, IMG_SIZE, 1)))\n",
    "model.add(MaxPooling2D(pool_size=(2,2)))\n",
    "model.add(BatchNormalization())\n",
    "\n",
    "model.add(Conv2D(64, kernel_size=(3,3), activation='relu'))\n",
    "model.add(MaxPooling2D(pool_size=(2,2)))\n",
    "model.add(BatchNormalization())\n",
    "\n",
    "model.add(Conv2D(64, kernel_size=(3,3), activation='relu'))\n",
    "model.add(MaxPooling2D(pool_size=(2,2)))\n",
    "model.add(BatchNormalization())\n",
    "\n",
    "model.add(Conv2D(96, kernel_size=(3,3), activation='relu'))\n",
    "model.add(MaxPooling2D(pool_size=(2,2)))\n",
    "model.add(BatchNormalization())\n",
    "\n",
    "model.add(Flatten())\n",
    "model.add(Dense(128, activation='relu'))\n",
    "model.add(Dense(13, activation = 'softmax'))"
   ]
  },
  {
   "cell_type": "code",
   "execution_count": 15,
   "metadata": {},
   "outputs": [],
   "source": [
    "#compile model using accuracy to measure model performance\n",
    "model.compile(optimizer='adam', loss='categorical_crossentropy', metrics=['accuracy'])"
   ]
  },
  {
   "cell_type": "code",
   "execution_count": null,
   "metadata": {},
   "outputs": [],
   "source": [
    "#train the model\n",
    "model.fit(train_images, train_labels, epochs=5, verbose=1)"
   ]
  },
  {
   "cell_type": "code",
   "execution_count": null,
   "metadata": {},
   "outputs": [
    {
     "ename": "Error",
     "evalue": "Session cannot generate requests",
     "output_type": "error",
     "traceback": [
      "Error: Session cannot generate requests",
      "at w.executeCodeCell (/home/anthony/.vscode/extensions/ms-toolsai.jupyter-2021.9.1101343141/out/client/extension.js:52:301180)",
      "at w.execute (/home/anthony/.vscode/extensions/ms-toolsai.jupyter-2021.9.1101343141/out/client/extension.js:52:300551)",
      "at w.start (/home/anthony/.vscode/extensions/ms-toolsai.jupyter-2021.9.1101343141/out/client/extension.js:52:296215)",
      "at runMicrotasks (<anonymous>)",
      "at processTicksAndRejections (internal/process/task_queues.js:93:5)",
      "at async t.CellExecutionQueue.executeQueuedCells (/home/anthony/.vscode/extensions/ms-toolsai.jupyter-2021.9.1101343141/out/client/extension.js:52:310950)",
      "at async t.CellExecutionQueue.start (/home/anthony/.vscode/extensions/ms-toolsai.jupyter-2021.9.1101343141/out/client/extension.js:52:310490)"
     ]
    }
   ],
   "source": [
    "model.summary()"
   ]
  },
  {
   "cell_type": "code",
   "execution_count": null,
   "metadata": {},
   "outputs": [],
   "source": [
    "#setting up testing data\n",
    "test_images = np.array([i[0] for i in test_data]).reshape(-1, IMG_SIZE, IMG_SIZE, 1)\n",
    "test_labels = np.array([i[1] for i in test_data])"
   ]
  },
  {
   "cell_type": "code",
   "execution_count": null,
   "metadata": {},
   "outputs": [
    {
     "ename": "Error",
     "evalue": "Session cannot generate requests",
     "output_type": "error",
     "traceback": [
      "Error: Session cannot generate requests",
      "at w.executeCodeCell (/home/anthony/.vscode/extensions/ms-toolsai.jupyter-2021.9.1101343141/out/client/extension.js:52:301180)",
      "at w.execute (/home/anthony/.vscode/extensions/ms-toolsai.jupyter-2021.9.1101343141/out/client/extension.js:52:300551)",
      "at w.start (/home/anthony/.vscode/extensions/ms-toolsai.jupyter-2021.9.1101343141/out/client/extension.js:52:296215)",
      "at runMicrotasks (<anonymous>)",
      "at processTicksAndRejections (internal/process/task_queues.js:93:5)",
      "at async t.CellExecutionQueue.executeQueuedCells (/home/anthony/.vscode/extensions/ms-toolsai.jupyter-2021.9.1101343141/out/client/extension.js:52:310950)",
      "at async t.CellExecutionQueue.start (/home/anthony/.vscode/extensions/ms-toolsai.jupyter-2021.9.1101343141/out/client/extension.js:52:310490)"
     ]
    }
   ],
   "source": [
    "#evaluate the model\n",
    "loss, acc = model.evaluate(test_images, test_labels, verbose = 0)\n",
    "print(acc * 100)"
   ]
  },
  {
   "cell_type": "markdown",
   "metadata": {},
   "source": [
    "# Part 2 - Upgrading the Model"
   ]
  },
  {
   "cell_type": "markdown",
   "metadata": {},
   "source": [
    "Too upgrade the model I'm going to change the parameters and check how the impact. I added 3 dropout layers these are to help with the issue of overfitting. wanted to add more epochs but my computer could not handle it"
   ]
  },
  {
   "cell_type": "code",
   "execution_count": null,
   "metadata": {},
   "outputs": [],
   "source": [
    "#CNN Creation\n",
    "improved_model = Sequential()\n",
    "\n",
    "#adding layers to the improved_model\n",
    "improved_model.add(Conv2D(32, kernel_size = (3, 3), activation='relu', input_shape=(IMG_SIZE, IMG_SIZE, 1)))\n",
    "improved_model.add(MaxPooling2D(pool_size=(2,2)))\n",
    "improved_model.add(BatchNormalization())\n",
    "\n",
    "improved_model.add(Conv2D(64, kernel_size=(3,3), activation='relu'))\n",
    "improved_model.add(MaxPooling2D(pool_size=(2,2)))\n",
    "improved_model.add(BatchNormalization())\n",
    "\n",
    "improved_model.add(Conv2D(96, kernel_size=(3,3), activation='relu'))\n",
    "improved_model.add(MaxPooling2D(pool_size=(2,2)))\n",
    "improved_model.add(BatchNormalization())\n",
    "\n",
    "improved_model.add(Conv2D(96, kernel_size=(3,3), activation='relu'))\n",
    "improved_model.add(MaxPooling2D(pool_size=(2,2)))\n",
    "improved_model.add(BatchNormalization())\n",
    "\n",
    "improved_model.add(Flatten())\n",
    "improved_model.add(Dense(256, activation='relu'))\n",
    "improved_model.add(Dropout(0.2))\n",
    "improved_model.add(Dense(128, activation='relu'))\n",
    "improved_model.add(Dropout(0.3))\n",
    "improved_model.add(Dense(13, activation = 'softmax'))"
   ]
  },
  {
   "cell_type": "code",
   "execution_count": null,
   "metadata": {},
   "outputs": [],
   "source": [
    "#compile model using accuracy to measure model performance\n",
    "improved_model.compile(optimizer='adam', loss='categorical_crossentropy', metrics=['accuracy'])"
   ]
  },
  {
   "cell_type": "code",
   "execution_count": null,
   "metadata": {},
   "outputs": [],
   "source": [
    "#train the model\n",
    "improved_model.fit(train_images, train_labels, epochs=5, verbose=1)"
   ]
  },
  {
   "cell_type": "code",
   "execution_count": null,
   "metadata": {},
   "outputs": [
    {
     "ename": "Error",
     "evalue": "Session cannot generate requests",
     "output_type": "error",
     "traceback": [
      "Error: Session cannot generate requests",
      "at w.executeCodeCell (/home/anthony/.vscode/extensions/ms-toolsai.jupyter-2021.9.1101343141/out/client/extension.js:52:301180)",
      "at w.execute (/home/anthony/.vscode/extensions/ms-toolsai.jupyter-2021.9.1101343141/out/client/extension.js:52:300551)",
      "at w.start (/home/anthony/.vscode/extensions/ms-toolsai.jupyter-2021.9.1101343141/out/client/extension.js:52:296215)",
      "at runMicrotasks (<anonymous>)",
      "at processTicksAndRejections (internal/process/task_queues.js:93:5)",
      "at async t.CellExecutionQueue.executeQueuedCells (/home/anthony/.vscode/extensions/ms-toolsai.jupyter-2021.9.1101343141/out/client/extension.js:52:310950)",
      "at async t.CellExecutionQueue.start (/home/anthony/.vscode/extensions/ms-toolsai.jupyter-2021.9.1101343141/out/client/extension.js:52:310490)"
     ]
    }
   ],
   "source": [
    "improved_model.summary()"
   ]
  },
  {
   "cell_type": "code",
   "execution_count": null,
   "metadata": {},
   "outputs": [
    {
     "ename": "Error",
     "evalue": "Session cannot generate requests",
     "output_type": "error",
     "traceback": [
      "Error: Session cannot generate requests",
      "at w.executeCodeCell (/home/anthony/.vscode/extensions/ms-toolsai.jupyter-2021.9.1101343141/out/client/extension.js:52:301180)",
      "at w.execute (/home/anthony/.vscode/extensions/ms-toolsai.jupyter-2021.9.1101343141/out/client/extension.js:52:300551)",
      "at w.start (/home/anthony/.vscode/extensions/ms-toolsai.jupyter-2021.9.1101343141/out/client/extension.js:52:296215)",
      "at runMicrotasks (<anonymous>)",
      "at processTicksAndRejections (internal/process/task_queues.js:93:5)",
      "at async t.CellExecutionQueue.executeQueuedCells (/home/anthony/.vscode/extensions/ms-toolsai.jupyter-2021.9.1101343141/out/client/extension.js:52:310950)",
      "at async t.CellExecutionQueue.start (/home/anthony/.vscode/extensions/ms-toolsai.jupyter-2021.9.1101343141/out/client/extension.js:52:310490)"
     ]
    }
   ],
   "source": [
    "loss, acc = improved_model.evaluate(test_images, test_labels, verbose = 0)\n",
    "print(acc * 100)"
   ]
  }
 ],
 "metadata": {
  "interpreter": {
   "hash": "855dab752b21802638f14cbf098561ec8dcae2aa7c62f20cd73c2d76ba7b2775"
  },
  "kernelspec": {
   "display_name": "Python 3.8.12 64-bit ('condaENV': conda)",
   "name": "python3"
  },
  "language_info": {
   "codemirror_mode": {
    "name": "ipython",
    "version": 3
   },
   "file_extension": ".py",
   "mimetype": "text/x-python",
   "name": "python",
   "nbconvert_exporter": "python",
   "pygments_lexer": "ipython3",
   "version": "3.8.12"
  },
  "orig_nbformat": 4
 },
 "nbformat": 4,
 "nbformat_minor": 2
}
